{
 "cells": [
  {
   "cell_type": "markdown",
   "metadata": {},
   "source": [
    "# Execute IBM Watson Tone Analyzer on Tweets\n",
    "For each of the sets of tweets (set of coronavirus tweets, and set of non-coronavirus tweets)\n",
    "* Run the tone analyzer on each tweet\n",
    "* save the resulting output, the tweet text, and the tweet id into a file"
   ]
  },
  {
   "cell_type": "code",
   "execution_count": 34,
   "metadata": {},
   "outputs": [],
   "source": [
    "import json"
   ]
  },
  {
   "cell_type": "code",
   "execution_count": 3,
   "metadata": {},
   "outputs": [],
   "source": [
    "coronavirus_tweets     = []\n",
    "non_coronavirus_tweets = []\n",
    "    \n",
    "with open('corona_virus_tweets_cleaned.json', encoding=\"utf8\") as f:\n",
    "  coronavirus_tweets = json.load(f)\n",
    "\n",
    "with open('non_corona_virus_tweets_cleaned.json', encoding=\"utf8\") as f:\n",
    "  non_coronavirus_tweets = json.load(f)\n",
    "\n",
    "print(f'coronavirus tweets count: {len(coronavirus_tweets)}')\n",
    "print(f'non-coronavirus tweets count: {len(non_coronavirus_tweets)}')\n"
   ]
  },
  {
   "cell_type": "code",
   "execution_count": 4,
   "metadata": {},
   "outputs": [],
   "source": [
    "coronavirus_tone_analyzer_mapper     = []\n",
    "non_coronavirus_tone_analyzer_mapper = []\n",
    "\n",
    "for tweet in coronavirus_tweets:\n",
    "    # write the tweet text to a temporary file\n",
    "    # this was necessary to pass the text into the curl request below\n",
    "    with open(\"temp_text.txt\", \"w\", encoding=\"utf8\") as outfile:\n",
    "        outfile.write(tweet['text'])\n",
    "    \n",
    "    response = !curl -X POST -u \"apikey:MY-KEY\" --header \"Content-Type: text/plain\" --data-binary @\\Users\\netho\\Desktop\\TRUMP_TWEETS\\trump-corona-sentiment\\temp_text.txt \"MY-URL-AND-PARAMS\"\n",
    "    \n",
    "    # retrieve the response, convert it into a dictionary\n",
    "    tone_analyzer_response = json.loads(response[-1])\n",
    "    # add the tweet's 'id_str' and 'text' attributes to the response for mapping and future reference\n",
    "    tone_analyzer_response[\"id_str\"] = tweet[\"id_str\"]\n",
    "    tone_analyzer_response[\"text\"] = tweet[\"text\"]\n",
    "    # append to the list\n",
    "    coronavirus_tone_analyzer_mapper.append(tone_analyzer_response)\n",
    "\n",
    "# create the file\n",
    "with open(\"coronavirus_tone_analyzer_mapper.json\", \"w\", encoding=\"utf8\") as outfile:\n",
    "    json.dump(coronavirus_tone_analyzer_mapper, outfile)\n",
    "    \n",
    "##################################################\n",
    "# Do the same thing for the non-coronavirus tweets\n",
    "##################################################\n",
    "\n",
    "for tweet in non_coronavirus_tweets:\n",
    "    with open(\"temp_text.txt\", \"w\", encoding=\"utf8\") as outfile:\n",
    "        outfile.write(tweet['text'])\n",
    "    \n",
    "    response = !curl -X POST -u \"apikey:MY-KEY\" --header \"Content-Type: text/plain\" --data-binary @\\Users\\netho\\Desktop\\TRUMP_TWEETS\\trump-corona-sentiment\\temp_text.txt \"MY-URL-AND-PARAMS\"\n",
    "    \n",
    "    tone_analyzer_response = json.loads(response[-1])\n",
    "    \n",
    "    tone_analyzer_response[\"id_str\"] = tweet[\"id_str\"]\n",
    "    tone_analyzer_response[\"text\"] = tweet[\"text\"]\n",
    "    \n",
    "    non_coronavirus_tone_analyzer_mapper.append(tone_analyzer_response)\n",
    "\n",
    "with open(\"non_coronavirus_tone_analyzer_mapper.json\", \"w\", encoding=\"utf8\") as outfile:\n",
    "    json.dump(non_coronavirus_tone_analyzer_mapper, outfile)\n",
    "\n",
    "    \n",
    "    "
   ]
  },
  {
   "cell_type": "code",
   "execution_count": null,
   "metadata": {},
   "outputs": [],
   "source": []
  }
 ],
 "metadata": {
  "kernelspec": {
   "display_name": "Python 3",
   "language": "python",
   "name": "python3"
  },
  "language_info": {
   "codemirror_mode": {
    "name": "ipython",
    "version": 3
   },
   "file_extension": ".py",
   "mimetype": "text/x-python",
   "name": "python",
   "nbconvert_exporter": "python",
   "pygments_lexer": "ipython3",
   "version": "3.7.6"
  }
 },
 "nbformat": 4,
 "nbformat_minor": 4
}
