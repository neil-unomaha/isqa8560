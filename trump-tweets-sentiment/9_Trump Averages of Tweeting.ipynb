{
 "cells": [
  {
   "cell_type": "markdown",
   "metadata": {},
   "source": [
    "# Trump Tweets Overview"
   ]
  },
  {
   "cell_type": "markdown",
   "metadata": {},
   "source": [
    "| Dates | Date Description | Tweet Count | Total Days | Average |\n",
    "| ------|------------------|-------------|------------|---------|\n",
    "| 4/4/2009 - 5/27/2020 | Since earliest recorded tweet | 48,803 | 4,071 |12|\n",
    "| 4/4/2009 - 1/20/2017 | Up to Inauguration            | 30,335 | 2,848 |11|\n",
    "| 1/20/2017 - 5/27/2020| Since Presidency              | 18,468 | 1,223 |15|\n",
    "| 1/1/2019 - 1/1/2020  | 2019                          | 7,835  | 365   |21|\n",
    "| 1/1/2018 - 1/1/2019  | 2018                          | 3,572  | 365   |10|\n",
    "| 1/1/2017 - 1/1/2018  | 2017                          | 2,598  | 365   | 7|\n",
    "| 1/1/2016 - 1/1/2017  | 2016                          | 4,226  | 365   |12|\n",
    "| 1/1/2015 - 1/1/2016  | 2015                          | 7,531  | 365   |21|\n",
    "| 1/1/2014 - 1/1/2015  | 2014                          | 5,792  | 365   |16|\n",
    "| 1/1/2013 - 1/1/2014  | 2013                          | 8,144  | 365   |22|\n",
    "| 1/1/2012 - 1/1/2013  | 2012                          | 3,531  | 365   |10|\n",
    "| 1/1/2011 - 1/1/2012  | 2011                          |   774  | 365   |2|\n",
    "| 1/1/2010 - 1/1/2011  | 2010                          |   142  | 365   |<1|"
   ]
  },
  {
   "cell_type": "code",
   "execution_count": 2,
   "metadata": {},
   "outputs": [
    {
     "data": {
      "text/plain": [
       "<matplotlib.legend.Legend at 0x1f2c6dab188>"
      ]
     },
     "execution_count": 2,
     "metadata": {},
     "output_type": "execute_result"
    },
    {
     "data": {
      "image/png": "[encoded data removed]",
      "text/plain": [
       "<Figure size 720x360 with 1 Axes>"
      ]
     },
     "metadata": {
      "needs_background": "light"
     },
     "output_type": "display_data"
    }
   ],
   "source": [
    "import matplotlib.pyplot as plt\n",
    "\n",
    "fig, ax = plt.subplots(figsize=(10, 5))\n",
    "\n",
    "ax.bar(2,11, label='04/04/2009 - 01/20/2017 (Up to Inauguration)', color='red')\n",
    "ax.bar(3,15, label='01/20/2017 - 05/27/2020 (Since Presidency)', color='green')\n",
    "\n",
    "ax.set_ylabel('Tweets Per Day')\n",
    "ax.set_title('Average Tweets Per Day')\n",
    "ax.set_xticks([])\n",
    "ax.legend()"
   ]
  },
  {
   "cell_type": "markdown",
   "metadata": {},
   "source": [
    "```ruby\n",
    "# Code is ruby withinin a rails console\n",
    "\n",
    "tweets_since_earliest     = 48803\n",
    "tweets_upto_inauguration  = 30335\n",
    "tweets_since_inauguration = 18468\n",
    "tweets_in_2019            = 7835 \n",
    "\n",
    "earliest_date     = Date.new(2009,4,4)\n",
    "inauguration_date = Date.new(2017,1,20)\n",
    "late_date         = Date.new(2020,5,27)\n",
    "\n",
    "# Days within 4/4/2009 to 5/27/2020\n",
    "late_date - earliest_date\n",
    "# => 4071/1\n",
    "\n",
    "# Days within 4/4/2009 to 1/20/2017\n",
    "inauguration_date - earliest_date\n",
    "# => 2848/1\n",
    "\n",
    "# Days within  1/20/2017 to 5/27/2020\n",
    "late_date - inauguration_date\n",
    "# => 1223/1\n",
    "\n",
    "# Overall Average Tweets per day\n",
    "48803.to_f / 4071\n",
    "# => 11.98\n",
    "\n",
    "# Average tweets per day up to inauguration\n",
    "30335.to_f / 2848\n",
    "# => 10.65\n",
    "\n",
    "# Average tweets per day since presidency:\n",
    "18468.to_f / 1223\n",
    "# => 15.10\n",
    "\n",
    "# Average tweets in 2019\n",
    "7835.to_f / 365\n",
    "# => 21.46\n",
    "```"
   ]
  }
 ],
 "metadata": {
  "kernelspec": {
   "display_name": "Python 3",
   "language": "python",
   "name": "python3"
  },
  "language_info": {
   "codemirror_mode": {
    "name": "ipython",
    "version": 3
   },
   "file_extension": ".py",
   "mimetype": "text/x-python",
   "name": "python",
   "nbconvert_exporter": "python",
   "pygments_lexer": "ipython3",
   "version": "3.7.6"
  }
 },
 "nbformat": 4,
 "nbformat_minor": 4
}
