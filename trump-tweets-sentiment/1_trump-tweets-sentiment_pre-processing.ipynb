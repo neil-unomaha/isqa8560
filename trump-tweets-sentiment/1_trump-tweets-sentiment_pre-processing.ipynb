{
 "cells": [
  {
   "cell_type": "markdown",
   "metadata": {},
   "source": [
    "# Sentiment Analysis of Trump Tweets Regarding Coronavirus\n",
    "\n",
    "### Notebook Input:\n",
    "* A JSON file of tweets pulled from [Trump Twitter Archive](http://www.trumptwitterarchive.com/archive) ranging from 12/31/2019 - 5/27/2020\n",
    "\n",
    "### Notebook Output:\n",
    "* A JSON file of 200 coronavirus-related tweets\n",
    "* A JSON file of 200 non-coronavirus-related tweets"
   ]
  },
  {
   "cell_type": "code",
   "execution_count": 101,
   "metadata": {},
   "outputs": [],
   "source": [
    "import json\n",
    "import pandas as pd\n",
    "import random"
   ]
  },
  {
   "cell_type": "markdown",
   "metadata": {},
   "source": [
    "## Data Cleaning / Pre-Processing"
   ]
  },
  {
   "cell_type": "markdown",
   "metadata": {},
   "source": [
    "### Filter out  ReTweets"
   ]
  },
  {
   "cell_type": "code",
   "execution_count": 102,
   "metadata": {},
   "outputs": [
    {
     "name": "stdout",
     "output_type": "stream",
     "text": [
      "All Trump tweets ranging 12/31/2019 - 5/27/2020: 4412\n",
      "Trump tweets, filtered out retweets, ranging 12/31/2019 - 5/27/2020: 2114\n"
     ]
    }
   ],
   "source": [
    "tweets_with_retweets    = []\n",
    "tweets_without_retweets = []\n",
    "\n",
    "with open('Tweets_12-31-2019_05-27-2020_to_work.json', encoding=\"utf8\") as f:\n",
    "  tweets_with_retweets = json.load(f)\n",
    "\n",
    "for tweet in tweets_with_retweets:\n",
    "    if(tweet['text'].find('RT') == 0):\n",
    "        continue\n",
    "        \n",
    "    tweets_without_retweets.append(tweet)\n",
    "\n",
    "with open(\"Tweets_12-31-2019_05-27-2020_without-retweets.json\", \"w\") as outfile:\n",
    "    json.dump(tweets_without_retweets, outfile)\n",
    "    \n",
    "print(f'All Trump tweets ranging 12/31/2019 - 5/27/2020: {len(tweets_with_retweets)}')\n",
    "print(f'Trump tweets, filtered out retweets, ranging 12/31/2019 - 5/27/2020: {len(tweets_without_retweets)}')"
   ]
  },
  {
   "cell_type": "markdown",
   "metadata": {},
   "source": [
    "### Filter Tweets by Coronavirus-related keywords"
   ]
  },
  {
   "cell_type": "code",
   "execution_count": 103,
   "metadata": {},
   "outputs": [
    {
     "name": "stdout",
     "output_type": "stream",
     "text": [
      "Total keyword-filtered tweets: 227\n"
     ]
    }
   ],
   "source": [
    "tweets_ary                  = []\n",
    "keyword_filtered_tweets_ary = []\n",
    "\n",
    "with open('Tweets_12-31-2019_05-27-2020_without-retweets.json', encoding=\"utf8\") as f:\n",
    "  tweets_ary = json.load(f)\n",
    "\n",
    "for tweet in tweets_ary:\n",
    "    lcase_tweet_txt = tweet['text'].lower()\n",
    "    \n",
    "    if(lcase_tweet_txt.find('china') > -1):\n",
    "        keyword_filtered_tweets_ary.append(tweet)\n",
    "    elif(lcase_tweet_txt.find('covid') > -1):\n",
    "        keyword_filtered_tweets_ary.append(tweet)\n",
    "    elif(lcase_tweet_txt.find('pandemic') > -1):\n",
    "        keyword_filtered_tweets_ary.append(tweet)\n",
    "    elif(lcase_tweet_txt.find('virus') > -1):\n",
    "        keyword_filtered_tweets_ary.append(tweet)\n",
    "    elif(lcase_tweet_txt.find('corona') > -1):\n",
    "        keyword_filtered_tweets_ary.append(tweet)\n",
    "    elif(lcase_tweet_txt.find('hospital') > -1):\n",
    "        keyword_filtered_tweets_ary.append(tweet)\n",
    "    elif(lcase_tweet_txt.find('ventilator') > -1):\n",
    "        keyword_filtered_tweets_ary.append(tweet)\n",
    "    elif(lcase_tweet_txt.find('reopen') > -1):\n",
    "        keyword_filtered_tweets_ary.append(tweet)\n",
    "    elif(lcase_tweet_txt.find('vaccine') > -1):\n",
    "        keyword_filtered_tweets_ary.append(tweet)\n",
    "    elif(lcase_tweet_txt.find('testing') > -1):\n",
    "        keyword_filtered_tweets_ary.append(tweet)\n",
    "    elif(lcase_tweet_txt.find('tests') > -1):\n",
    "        keyword_filtered_tweets_ary.append(tweet)\n",
    "        \n",
    "with open(\"tweets_keyword_filtered.json\", \"w\") as outfile:\n",
    "    json.dump(keyword_filtered_tweets_ary, outfile)\n",
    "    \n",
    "print(f'Total keyword-filtered tweets: {len(keyword_filtered_tweets_ary)}')"
   ]
  },
  {
   "cell_type": "markdown",
   "metadata": {},
   "source": [
    "### Identify and remove tweets where coronavirus was neither directory nor indirectly a component of the tweet, or it is a manual quote"
   ]
  },
  {
   "cell_type": "code",
   "execution_count": 104,
   "metadata": {
    "scrolled": true
   },
   "outputs": [
    {
     "data": {
      "text/html": [
       "<div>\n",
       "<style scoped>\n",
       "    .dataframe tbody tr th:only-of-type {\n",
       "        vertical-align: middle;\n",
       "    }\n",
       "\n",
       "    .dataframe tbody tr th {\n",
       "        vertical-align: top;\n",
       "    }\n",
       "\n",
       "    .dataframe thead th {\n",
       "        text-align: right;\n",
       "    }\n",
       "</style>\n",
       "<table border=\"1\" class=\"dataframe\">\n",
       "  <thead>\n",
       "    <tr style=\"text-align: right;\">\n",
       "      <th></th>\n",
       "      <th>text</th>\n",
       "      <th>created_at</th>\n",
       "      <th>id_str</th>\n",
       "    </tr>\n",
       "  </thead>\n",
       "  <tbody>\n",
       "    <tr>\n",
       "      <th>0</th>\n",
       "      <td>....One person lost to this invisible virus is too much, it should have been stopped at its source, China, but I acted very quickly, and made the right decisions. Many of the current political complainers thought, at the time, that I was moving far to fast, like Crazy Nancy!</td>\n",
       "      <td>Tue May 26 15:18:23 +0000 2020</td>\n",
       "      <td>1265301261903106054</td>\n",
       "    </tr>\n",
       "    <tr>\n",
       "      <th>1</th>\n",
       "      <td>For all of the political hacks out there, if I hadn’t done my job well, &amp;amp; early, we would have lost 1 1/2 to 2 Million People, as opposed to the 100,000 plus that looks like will be the number. That’s 15 to 20 times more than we will lose. I shut down entry from China very early!</td>\n",
       "      <td>Tue May 26 15:18:20 +0000 2020</td>\n",
       "      <td>1265301249630654467</td>\n",
       "    </tr>\n",
       "    <tr>\n",
       "      <th>2</th>\n",
       "      <td>We made most Governors look very good, even great, by getting them the Ventilators, unlimited Testing, and supplies, all of which they should have had in their own stockpiles. So they look great, and I just keep rolling along, doing great things and getting Fake Lamestream News!</td>\n",
       "      <td>Tue May 26 15:01:26 +0000 2020</td>\n",
       "      <td>1265296994056183809</td>\n",
       "    </tr>\n",
       "    <tr>\n",
       "      <th>3</th>\n",
       "      <td>Great reviews on our handling of Covid 19, sometimes referred to as the China Virus. Ventilators, Testing, Medical Supply Distribution, we made a lot of Governors look very good - And got no credit for so doing. Most importantly, we helped a lot of great people!</td>\n",
       "      <td>Mon May 25 20:16:06 +0000 2020</td>\n",
       "      <td>1265013797334507521</td>\n",
       "    </tr>\n",
       "    <tr>\n",
       "      <th>4</th>\n",
       "      <td>Nobody in 50 years has been WEAKER on China than Sleepy Joe Biden. He was asleep at the wheel. He gave them EVERYTHING they wanted, including rip-off Trade Deals. I am getting it all back!</td>\n",
       "      <td>Mon May 25 20:05:34 +0000 2020</td>\n",
       "      <td>1265011145879977985</td>\n",
       "    </tr>\n",
       "    <tr>\n",
       "      <th>...</th>\n",
       "      <td>...</td>\n",
       "      <td>...</td>\n",
       "      <td>...</td>\n",
       "    </tr>\n",
       "    <tr>\n",
       "      <th>222</th>\n",
       "      <td>One of the greatest trade deals ever made! Also good for China and our long term relationship. 250 Billion Dollars will be coming back to our Country, and we are now in a great position for a Phase Two start. There has never been anything like this in U.S. history! USMCA NEXT!</td>\n",
       "      <td>Thu Jan 16 13:41:21 +0000 2020</td>\n",
       "      <td>1217804029599920128</td>\n",
       "    </tr>\n",
       "    <tr>\n",
       "      <th>223</th>\n",
       "      <td>National Security Adviser suggested today that sanctions &amp;amp; protests have Iran “choked off”, will force them to negotiate. Actually, I couldn’t care less if they negotiate. Will be totally up to them but, no nuclear weapons and “don’t kill your protesters.”</td>\n",
       "      <td>Sun Jan 12 23:46:18 +0000 2020</td>\n",
       "      <td>1216506722153639942</td>\n",
       "    </tr>\n",
       "    <tr>\n",
       "      <th>224</th>\n",
       "      <td>The government of Iran must allow human rights groups to monitor and report facts from the ground on the ongoing protests by the Iranian people. There can not be another massacre of peaceful protesters, nor an internet shutdown. The world is watching.</td>\n",
       "      <td>Sat Jan 11 22:11:03 +0000 2020</td>\n",
       "      <td>1216120362230067202</td>\n",
       "    </tr>\n",
       "    <tr>\n",
       "      <th>225</th>\n",
       "      <td>To the brave, long-suffering people of Iran: I've stood with you since the beginning of my Presidency, and my Administration will continue to stand with you. We are following your protests closely, and are inspired by your courage.</td>\n",
       "      <td>Sat Jan 11 21:46:18 +0000 2020</td>\n",
       "      <td>1216114135529902081</td>\n",
       "    </tr>\n",
       "    <tr>\n",
       "      <th>226</th>\n",
       "      <td>I will be signing our very large and comprehensive Phase One Trade Deal with China on January 15. The ceremony will take place at the White House. High level representatives of China will be present. At a later date I will be going to Beijing where talks will begin on Phase Two!</td>\n",
       "      <td>Tue Dec 31 14:16:40 +0000 2019</td>\n",
       "      <td>1212014713808273410</td>\n",
       "    </tr>\n",
       "  </tbody>\n",
       "</table>\n",
       "<p>227 rows × 3 columns</p>\n",
       "</div>"
      ],
      "text/plain": [
       "                                                                                                                                                                                                                                                                                             text  \\\n",
       "0             ....One person lost to this invisible virus is too much, it should have been stopped at its source, China, but I acted very quickly, and made the right decisions. Many of the current political complainers thought, at the time, that I was moving far to fast, like Crazy Nancy!   \n",
       "1    For all of the political hacks out there, if I hadn’t done my job well, &amp; early, we would have lost 1 1/2 to 2 Million People, as opposed to the 100,000 plus that looks like will be the number. That’s 15 to 20 times more than we will lose. I shut down entry from China very early!   \n",
       "2         We made most Governors look very good, even great, by getting them the Ventilators, unlimited Testing, and supplies, all of which they should have had in their own stockpiles. So they look great, and I just keep rolling along, doing great things and getting Fake Lamestream News!   \n",
       "3                          Great reviews on our handling of Covid 19, sometimes referred to as the China Virus. Ventilators, Testing, Medical Supply Distribution, we made a lot of Governors look very good - And got no credit for so doing. Most importantly, we helped a lot of great people!   \n",
       "4                                                                                                    Nobody in 50 years has been WEAKER on China than Sleepy Joe Biden. He was asleep at the wheel. He gave them EVERYTHING they wanted, including rip-off Trade Deals. I am getting it all back!   \n",
       "..                                                                                                                                                                                                                                                                                            ...   \n",
       "222         One of the greatest trade deals ever made! Also good for China and our long term relationship. 250 Billion Dollars will be coming back to our Country, and we are now in a great position for a Phase Two start. There has never been anything like this in U.S. history! USMCA NEXT!   \n",
       "223                          National Security Adviser suggested today that sanctions &amp; protests have Iran “choked off”, will force them to negotiate. Actually, I couldn’t care less if they negotiate. Will be totally up to them but, no nuclear weapons and “don’t kill your protesters.”   \n",
       "224                                   The government of Iran must allow human rights groups to monitor and report facts from the ground on the ongoing protests by the Iranian people. There can not be another massacre of peaceful protesters, nor an internet shutdown. The world is watching.   \n",
       "225                                                       To the brave, long-suffering people of Iran: I've stood with you since the beginning of my Presidency, and my Administration will continue to stand with you. We are following your protests closely, and are inspired by your courage.   \n",
       "226       I will be signing our very large and comprehensive Phase One Trade Deal with China on January 15. The ceremony will take place at the White House. High level representatives of China will be present. At a later date I will be going to Beijing where talks will begin on Phase Two!   \n",
       "\n",
       "                         created_at               id_str  \n",
       "0    Tue May 26 15:18:23 +0000 2020  1265301261903106054  \n",
       "1    Tue May 26 15:18:20 +0000 2020  1265301249630654467  \n",
       "2    Tue May 26 15:01:26 +0000 2020  1265296994056183809  \n",
       "3    Mon May 25 20:16:06 +0000 2020  1265013797334507521  \n",
       "4    Mon May 25 20:05:34 +0000 2020  1265011145879977985  \n",
       "..                              ...                  ...  \n",
       "222  Thu Jan 16 13:41:21 +0000 2020  1217804029599920128  \n",
       "223  Sun Jan 12 23:46:18 +0000 2020  1216506722153639942  \n",
       "224  Sat Jan 11 22:11:03 +0000 2020  1216120362230067202  \n",
       "225  Sat Jan 11 21:46:18 +0000 2020  1216114135529902081  \n",
       "226  Tue Dec 31 14:16:40 +0000 2019  1212014713808273410  \n",
       "\n",
       "[227 rows x 3 columns]"
      ]
     },
     "execution_count": 104,
     "metadata": {},
     "output_type": "execute_result"
    }
   ],
   "source": [
    "pd.set_option('max_colwidth', 300)\n",
    "pd.set_option('display.max_rows', 10)\n",
    "tweets_df = pd.DataFrame.from_dict(keyword_filtered_tweets_ary)\n",
    "tweets_df"
   ]
  },
  {
   "cell_type": "markdown",
   "metadata": {},
   "source": [
    "### Identified Tweets to be Removed\n",
    "**Duplicate Tweets likely due to typo fixes**\n",
    "* 1254474709674143749\n",
    "* 1253684917038452736\n",
    "* 1249505062554144768\n",
    "* 1249369344540377089\n",
    "* 1249100658692648962\n",
    "* 1243710532714192898\n",
    "* 1229776851297558529\n",
    "\n",
    "\n",
    "**Classified as unrelated to coronavirus, either directly or indirectly**\n",
    "* 1251589681428520960\n",
    "* 1249103831994118146\n",
    "* 1230875946334318593\n",
    "* 1229790100797739008\n",
    "* 1224374908710420480\n",
    "* 1220673252764332037\n",
    "* 1220044230065655808\n",
    "* 1218952496388956162\n",
    "* 1217827468230434818\n",
    "* 1217808535091916800\n",
    "* 1217804029599920128\n",
    "* 1216506722153639942\n",
    "* 1216120362230067202\n",
    "* 1216114135529902081\n",
    "* 1212014713808273410\n",
    "\n",
    "\n",
    "**Tweets are manually entered quotes**\n",
    "* 1244320570315018240\n",
    "* 1244320704826310665\n",
    "* 1242756708902076417\n",
    "* 1232565919043317761\n",
    "\n",
    "\n",
    "**Tweet is significantly a quote besides saying \"Thank you Tom\"**\n",
    "* 1235594306297253889\n"
   ]
  },
  {
   "cell_type": "code",
   "execution_count": 105,
   "metadata": {
    "scrolled": true
   },
   "outputs": [
    {
     "name": "stdout",
     "output_type": "stream",
     "text": [
      "Before count: 227\n",
      "After count: 200\n"
     ]
    }
   ],
   "source": [
    "print(f'Before count: {len(keyword_filtered_tweets_ary)}')\n",
    "keyword_filtered_tweets_ary[:] = [tweet for tweet in keyword_filtered_tweets_ary if tweet.get('id_str') not in ['1254474709674143749', '1253684917038452736', '1249505062554144768', '1249369344540377089', '1249100658692648962', '1243710532714192898', '1229776851297558529', '1251589681428520960', '1249103831994118146', '1230875946334318593', '1229790100797739008', '1224374908710420480', '1220673252764332037', '1220044230065655808', '1218952496388956162', '1217827468230434818', '1217808535091916800', '1217804029599920128', '1216506722153639942', '1216120362230067202', '1216114135529902081', '1212014713808273410', '1244320570315018240', '1244320704826310665', '1242756708902076417', '1232565919043317761', '1235594306297253889']]\n",
    "print(f'After count: {len(keyword_filtered_tweets_ary)}')"
   ]
  },
  {
   "cell_type": "code",
   "execution_count": 106,
   "metadata": {},
   "outputs": [],
   "source": [
    "# put the tweets in order from oldest to newest\n",
    "keyword_filtered_tweets_ary.sort(key=lambda x: int(x['id_str']))\n",
    "\n",
    "# save the keyword tweets into a JSON file\n",
    "with open(\"corona_virus_tweets_cleaned.json\", \"w\") as outfile:\n"
   ]
  },
  {
   "cell_type": "markdown",
   "metadata": {},
   "source": [
    "### Make copy of non-coronavirus tweets"
   ]
  },
  {
   "cell_type": "code",
   "execution_count": 107,
   "metadata": {
    "scrolled": true
   },
   "outputs": [
    {
     "data": {
      "text/plain": [
       "1914"
      ]
     },
     "execution_count": 107,
     "metadata": {},
     "output_type": "execute_result"
    }
   ],
   "source": [
    "non_corona_virus_tweets = []\n",
    "\n",
    "for tweet in tweets_without_retweets:\n",
    "    if tweet in keyword_filtered_tweets_ary:\n",
    "        continue\n",
    "    else:\n",
    "        non_corona_virus_tweets.append(tweet)\n",
    "\n",
    "# save the keyword tweets into a JSON file\n",
    "with open(\"non_corona_virus_tweets_all.json\", \"w\") as outfile:\n",
    "    json.dump(non_corona_virus_tweets, outfile)\n",
    "        \n",
    "len(non_corona_virus_tweets)"
   ]
  },
  {
   "cell_type": "code",
   "execution_count": 108,
   "metadata": {},
   "outputs": [],
   "source": [
    "#### NOTE #### \n",
    "# Your shuffle result will differ from the result I received\n",
    "# For that reason, you may consider commenting out this entire cell\n",
    "# The next cell will pick up the list of tweets I received when shuffleing\n",
    "\n",
    "# Randomly select 250 tweets from the non-coronavirus tweets\n",
    "# The extra 50 tweets serve as replacement tweets during manual review process\n",
    "# If any tweets are barely original tweets or are merely a link: delete them from the list\n",
    "# Any remaining tweets above 200 will be popped from the end of the array\n",
    "# If tweet list falls below 200 tweets: repeat\n",
    "random.shuffle(non_corona_virus_tweets)\n",
    "random_250_non_corona_virus_tweets = non_corona_virus_tweets[:250]\n",
    "\n",
    "# save the random selection so that it can be referenced in the future\n",
    "with open(\"random_250_non_corona_virus_tweets.json\", \"w\") as outfile:\n",
    "    json.dump(random_250_non_corona_virus_tweets, outfile)"
   ]
  },
  {
   "cell_type": "code",
   "execution_count": 109,
   "metadata": {},
   "outputs": [],
   "source": [
    "# For reproducabilty, loading in random shuffle results JSON file\n",
    "random_250_non_corona_virus_tweets = []\n",
    "\n",
    "with open('random_250_non_corona_virus_tweets.json', encoding=\"utf8\") as f:\n",
    "  random_250_non_corona_virus_tweets = json.load(f)"
   ]
  },
  {
   "cell_type": "markdown",
   "metadata": {},
   "source": [
    "### Manually identify and remove tweets"
   ]
  },
  {
   "cell_type": "code",
   "execution_count": 111,
   "metadata": {
    "scrolled": false
   },
   "outputs": [
    {
     "data": {
      "text/html": [
       "<div>\n",
       "<style scoped>\n",
       "    .dataframe tbody tr th:only-of-type {\n",
       "        vertical-align: middle;\n",
       "    }\n",
       "\n",
       "    .dataframe tbody tr th {\n",
       "        vertical-align: top;\n",
       "    }\n",
       "\n",
       "    .dataframe thead th {\n",
       "        text-align: right;\n",
       "    }\n",
       "</style>\n",
       "<table border=\"1\" class=\"dataframe\">\n",
       "  <thead>\n",
       "    <tr style=\"text-align: right;\">\n",
       "      <th></th>\n",
       "      <th>text</th>\n",
       "      <th>created_at</th>\n",
       "      <th>id_str</th>\n",
       "    </tr>\n",
       "  </thead>\n",
       "  <tbody>\n",
       "    <tr>\n",
       "      <th>0</th>\n",
       "      <td>Nervous Nancy is an inherently “dumb” person. She wasted all of her time on the Impeachment Hoax. She will be overthrown, either by inside or out, just like her last time as “Speaker”. Wallace &amp;amp; @FoxNews are on a bad path, watch! https://t.co/nkEj5YeRjb</td>\n",
       "      <td>Sun Apr 19 16:58:51 +0000 2020</td>\n",
       "      <td>1251918194639548417</td>\n",
       "    </tr>\n",
       "    <tr>\n",
       "      <th>1</th>\n",
       "      <td>This is a total disgrace, but just another reason that I’m going to win Michigan again! https://t.co/XrqveOvYcG</td>\n",
       "      <td>Thu Jan 16 15:49:37 +0000 2020</td>\n",
       "      <td>1217836310657892353</td>\n",
       "    </tr>\n",
       "    <tr>\n",
       "      <th>2</th>\n",
       "      <td>Incredible people, great Rally! https://t.co/3i6tgfqrRl</td>\n",
       "      <td>Sat Feb 22 04:17:45 +0000 2020</td>\n",
       "      <td>1231070547607511040</td>\n",
       "    </tr>\n",
       "    <tr>\n",
       "      <th>3</th>\n",
       "      <td>They are staging a coup against Bernie!</td>\n",
       "      <td>Mon Mar 02 21:32:54 +0000 2020</td>\n",
       "      <td>1234592543821705219</td>\n",
       "    </tr>\n",
       "    <tr>\n",
       "      <th>4</th>\n",
       "      <td>THANK YOU CALIFORNIA! #KAG2020 https://t.co/7BrkAKYWU0</td>\n",
       "      <td>Wed Mar 04 05:59:06 +0000 2020</td>\n",
       "      <td>1235082320161325057</td>\n",
       "    </tr>\n",
       "    <tr>\n",
       "      <th>...</th>\n",
       "      <td>...</td>\n",
       "      <td>...</td>\n",
       "      <td>...</td>\n",
       "    </tr>\n",
       "    <tr>\n",
       "      <th>245</th>\n",
       "      <td>....had happened to a Presidential candidate, or President, who was a Democrat, everybody involved would long ago be in jail for treason (and more), and it would be considered the CRIME OF THE CENTURY, far bigger and more sinister than Watergate!</td>\n",
       "      <td>Thu Jan 02 13:58:02 +0000 2020</td>\n",
       "      <td>1212734798365626369</td>\n",
       "    </tr>\n",
       "    <tr>\n",
       "      <th>246</th>\n",
       "      <td>So nice to see this great honor. Thank you (but haven’t played golf in a long time)! https://t.co/FfJyUmRdGi</td>\n",
       "      <td>Sun May 03 14:36:19 +0000 2020</td>\n",
       "      <td>1256955754428448768</td>\n",
       "    </tr>\n",
       "    <tr>\n",
       "      <th>247</th>\n",
       "      <td>Great Alan. They are Fake News! https://t.co/n7zUY7mzIQ</td>\n",
       "      <td>Tue Apr 21 03:18:19 +0000 2020</td>\n",
       "      <td>1252436473866973185</td>\n",
       "    </tr>\n",
       "    <tr>\n",
       "      <th>248</th>\n",
       "      <td>She is a third rate reporter who has nothing going. A Fake News “journalist”. https://t.co/SopsC7uMMf</td>\n",
       "      <td>Sat Mar 28 01:05:07 +0000 2020</td>\n",
       "      <td>1243705647192997893</td>\n",
       "    </tr>\n",
       "    <tr>\n",
       "      <th>249</th>\n",
       "      <td>Set up by Schiff’s lies &amp;amp; leaks. Same with the Mueller Witch Hunt 3 years ago! https://t.co/uSzupeHXoq</td>\n",
       "      <td>Mon Feb 24 21:28:48 +0000 2020</td>\n",
       "      <td>1232054796502343681</td>\n",
       "    </tr>\n",
       "  </tbody>\n",
       "</table>\n",
       "<p>250 rows × 3 columns</p>\n",
       "</div>"
      ],
      "text/plain": [
       "                                                                                                                                                                                                                                                                  text  \\\n",
       "0    Nervous Nancy is an inherently “dumb” person. She wasted all of her time on the Impeachment Hoax. She will be overthrown, either by inside or out, just like her last time as “Speaker”. Wallace &amp; @FoxNews are on a bad path, watch! https://t.co/nkEj5YeRjb   \n",
       "1                                                                                                                                                      This is a total disgrace, but just another reason that I’m going to win Michigan again! https://t.co/XrqveOvYcG   \n",
       "2                                                                                                                                                                                                              Incredible people, great Rally! https://t.co/3i6tgfqrRl   \n",
       "3                                                                                                                                                                                                                              They are staging a coup against Bernie!   \n",
       "4                                                                                                                                                                                                               THANK YOU CALIFORNIA! #KAG2020 https://t.co/7BrkAKYWU0   \n",
       "..                                                                                                                                                                                                                                                                 ...   \n",
       "245             ....had happened to a Presidential candidate, or President, who was a Democrat, everybody involved would long ago be in jail for treason (and more), and it would be considered the CRIME OF THE CENTURY, far bigger and more sinister than Watergate!   \n",
       "246                                                                                                                                                       So nice to see this great honor. Thank you (but haven’t played golf in a long time)! https://t.co/FfJyUmRdGi   \n",
       "247                                                                                                                                                                                                            Great Alan. They are Fake News! https://t.co/n7zUY7mzIQ   \n",
       "248                                                                                                                                                              She is a third rate reporter who has nothing going. A Fake News “journalist”. https://t.co/SopsC7uMMf   \n",
       "249                                                                                                                                                         Set up by Schiff’s lies &amp; leaks. Same with the Mueller Witch Hunt 3 years ago! https://t.co/uSzupeHXoq   \n",
       "\n",
       "                         created_at               id_str  \n",
       "0    Sun Apr 19 16:58:51 +0000 2020  1251918194639548417  \n",
       "1    Thu Jan 16 15:49:37 +0000 2020  1217836310657892353  \n",
       "2    Sat Feb 22 04:17:45 +0000 2020  1231070547607511040  \n",
       "3    Mon Mar 02 21:32:54 +0000 2020  1234592543821705219  \n",
       "4    Wed Mar 04 05:59:06 +0000 2020  1235082320161325057  \n",
       "..                              ...                  ...  \n",
       "245  Thu Jan 02 13:58:02 +0000 2020  1212734798365626369  \n",
       "246  Sun May 03 14:36:19 +0000 2020  1256955754428448768  \n",
       "247  Tue Apr 21 03:18:19 +0000 2020  1252436473866973185  \n",
       "248  Sat Mar 28 01:05:07 +0000 2020  1243705647192997893  \n",
       "249  Mon Feb 24 21:28:48 +0000 2020  1232054796502343681  \n",
       "\n",
       "[250 rows x 3 columns]"
      ]
     },
     "execution_count": 111,
     "metadata": {},
     "output_type": "execute_result"
    }
   ],
   "source": [
    "pd.set_option('max_colwidth', 300)\n",
    "pd.set_option('display.max_rows', 10)\n",
    "tweets_df = pd.DataFrame.from_dict(random_250_non_corona_virus_tweets)\n",
    "tweets_df"
   ]
  },
  {
   "cell_type": "markdown",
   "metadata": {},
   "source": [
    "### Tweets to remove\n",
    "\n",
    "**Nothing but a quote**\n",
    "* 1218164681464000513\n",
    "* 1220325126186598400\n",
    "* 1220379537155948544\n",
    "* 1242756708902076417\n",
    "\n",
    "**Nothing but a link**\n",
    "* 1229519051514355713\n",
    "* 1256676153630363649\n",
    "* 1250928193755926531\n",
    "* 1263688831234183168\n",
    "* 1233474782026436611\n",
    "* 1253341461401096193\n",
    "* 1255656645759246341\n",
    "* 1256355575576834052\n",
    "* 1222973244644315136\n",
    "* 1230384588553211907\n",
    "* 1244409814064775169\n",
    "* 1235415690292662273\n",
    "* 1253341575280656385\n",
    "* 1232005756054069248\n",
    "* 1247230728045236225\n",
    "* 1263962362228457475\n",
    "* 1263597356500451329\n",
    "* 1220865941434699776\n",
    "* 1242539178786725891\n",
    "* 1231302822785953792\n",
    "* 1221269233126060033\n",
    "* 1262140755843448832\n",
    "* 1244682364284014594\n",
    "\n",
    "**Tweet not in English**\n",
    "* 1216130169477439488\n",
    "\n",
    "**Significantly a manual retweet:**\n",
    "* 1235594306297253889\n",
    "* 1215651567782780930"
   ]
  },
  {
   "cell_type": "code",
   "execution_count": 112,
   "metadata": {},
   "outputs": [
    {
     "data": {
      "text/plain": [
       "220"
      ]
     },
     "execution_count": 112,
     "metadata": {},
     "output_type": "execute_result"
    }
   ],
   "source": [
    "# remove the tweets above from the array\n",
    "random_250_non_corona_virus_tweets[:] = [tweet for tweet in random_250_non_corona_virus_tweets if tweet.get('id_str') not in ['1218164681464000513', '1220325126186598400', '1220379537155948544', '1242756708902076417', '1229519051514355713', '1256676153630363649', '1250928193755926531', '1263688831234183168', '1233474782026436611', '1253341461401096193', '1255656645759246341', '1256355575576834052', '1222973244644315136', '1230384588553211907', '1244409814064775169', '1235415690292662273', '1253341575280656385', '1232005756054069248', '1247230728045236225', '1263962362228457475', '1263597356500451329', '1220865941434699776', '1242539178786725891', '1231302822785953792', '1221269233126060033', '1262140755843448832', '1244682364284014594', '1216130169477439488', '1235594306297253889', '1215651567782780930']]\n",
    "len(random_250_non_corona_virus_tweets)"
   ]
  },
  {
   "cell_type": "code",
   "execution_count": 113,
   "metadata": {},
   "outputs": [
    {
     "data": {
      "text/plain": [
       "200"
      ]
     },
     "execution_count": 113,
     "metadata": {},
     "output_type": "execute_result"
    }
   ],
   "source": [
    "# grab the first 200 tweets\n",
    "non_corona_virus_tweets_cleaned = random_250_non_corona_virus_tweets[:200]\n",
    "len(non_corona_virus_tweets_cleaned)"
   ]
  },
  {
   "cell_type": "code",
   "execution_count": 116,
   "metadata": {},
   "outputs": [],
   "source": [
    "# put the tweets in order from oldest to newest\n",
    "non_corona_virus_tweets_cleaned.sort(key=lambda x: int(x['id_str']))\n",
    "\n",
    "# save the keyword tweets into a JSON file\n",
    "with open(\"non_corona_virus_tweets_cleaned.json\", \"w\") as outfile:\n",
    "    json.dump(non_corona_virus_tweets_cleaned, outfile)"
   ]
  },
  {
   "cell_type": "markdown",
   "metadata": {},
   "source": [
    "## Summary\n",
    "* This notebook took a list of President Trump's tweets ranging from 12/31/2019 - 5/27/2020. \n",
    "* After conducting automated and manual processes, a set of 200 coronavirus-related tweets, and a set of 200 non-coronavirus-related tweets were identified \n",
    "* Each set of tweets was saved into a JSON file"
   ]
  },
  {
   "cell_type": "code",
   "execution_count": null,
   "metadata": {},
   "outputs": [],
   "source": []
  }
 ],
 "metadata": {
  "kernelspec": {
   "display_name": "Python 3",
   "language": "python",
   "name": "python3"
  },
  "language_info": {
   "codemirror_mode": {
    "name": "ipython",
    "version": 3
   },
   "file_extension": ".py",
   "mimetype": "text/x-python",
   "name": "python",
   "nbconvert_exporter": "python",
   "pygments_lexer": "ipython3",
   "version": "3.7.6"
  }
 },
 "nbformat": 4,
 "nbformat_minor": 4
}
