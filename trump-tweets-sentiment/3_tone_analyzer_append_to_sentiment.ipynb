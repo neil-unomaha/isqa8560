{
 "cells": [
  {
   "cell_type": "markdown",
   "metadata": {},
   "source": [
    "# Append IBM Tone Analyzer to Existing VADER Sentiment"
   ]
  },
  {
   "cell_type": "code",
   "execution_count": 42,
   "metadata": {},
   "outputs": [],
   "source": [
    "import json"
   ]
  },
  {
   "cell_type": "code",
   "execution_count": 43,
   "metadata": {},
   "outputs": [
    {
     "name": "stdout",
     "output_type": "stream",
     "text": [
      "coronavirus tone analyzer count: 200\n",
      "non-coronavirus tone analyzer count: 200\n",
      "coronavirus tweet count: 200\n",
      "non-coronavirus tweet count: 200\n"
     ]
    }
   ],
   "source": [
    "tone_analyzer_coronavirus     = []\n",
    "tone_analyzer_non_coronavirus = []\n",
    "coronavirus_tweets            = []\n",
    "non_coronavirus_tweets        = []\n",
    "\n",
    "coronavirus_tweets_analyzer_combined = []\n",
    "non_coronavirus_tweets_analyzer_combined = []\n",
    "        \n",
    "with open('coronavirus_tone_analyzer_mapper.json', encoding=\"utf8\") as f:\n",
    "  tone_analyzer_coronavirus = json.load(f)\n",
    "\n",
    "with open('non_coronavirus_tone_analyzer_mapper.json', encoding=\"utf8\") as f:\n",
    "  tone_analyzer_non_coronavirus = json.load(f)\n",
    "\n",
    "with open('corona_virus_tweets_cleaned.json', encoding=\"utf8\") as f:\n",
    "  coronavirus_tweets = json.load(f)\n",
    "\n",
    "with open('non_corona_virus_tweets_cleaned.json', encoding=\"utf8\") as f:\n",
    "  non_coronavirus_tweets = json.load(f)\n",
    "\n",
    "\n",
    "print(f'coronavirus tone analyzer count: {len(tone_analyzer_coronavirus)}')\n",
    "print(f'non-coronavirus tone analyzer count: {len(tone_analyzer_non_coronavirus)}')\n",
    "print(f'coronavirus tweet count: {len(coronavirus_tweets)}')\n",
    "print(f'non-coronavirus tweet count: {len(non_coronavirus_tweets)}')"
   ]
  },
  {
   "cell_type": "code",
   "execution_count": 44,
   "metadata": {},
   "outputs": [],
   "source": [
    "for tweet in coronavirus_tweets:\n",
    "    for tone_obj in tone_analyzer_coronavirus:\n",
    "        if tweet['id_str'] == tone_obj['id_str']:\n",
    "            # set default values\n",
    "            tweet['analytical'] = 0.0\n",
    "            tweet['anger']      = 0.0\n",
    "            tweet['confident']  = 0.0\n",
    "            tweet['fear']       = 0.0\n",
    "            tweet['joy']        = 0.0\n",
    "            tweet['sadness']    = 0.0\n",
    "            tweet['tentative']  = 0.0\n",
    "            for tone in tone_obj['document_tone']['tones']:\n",
    "                if tone['tone_id'] == 'analytical':\n",
    "                    tweet['analytical'] = tone['score']\n",
    "                elif tone['tone_id'] == 'anger':\n",
    "                    tweet['anger'] = tone['score']\n",
    "                elif tone['tone_id'] == 'confident':\n",
    "                    tweet['confident'] = tone['score']\n",
    "                elif tone['tone_id'] == 'fear':\n",
    "                    tweet['fear'] = tone['score']\n",
    "                elif tone['tone_id'] == 'joy':\n",
    "                    tweet['joy'] = tone['score']\n",
    "                elif tone['tone_id'] == 'sadness':\n",
    "                    tweet['sadness'] = tone['score']\n",
    "                elif tone['tone_id'] == 'tentative':\n",
    "                    tweet['tentative'] = tone['score']\n",
    "                    \n",
    "\n",
    "for tweet in non_coronavirus_tweets:\n",
    "    for tone_obj in tone_analyzer_non_coronavirus:\n",
    "        if tweet['id_str'] == tone_obj['id_str']:\n",
    "            # set default values\n",
    "            tweet['analytical'] = 0.0\n",
    "            tweet['anger']      = 0.0\n",
    "            tweet['confident']  = 0.0\n",
    "            tweet['fear']       = 0.0\n",
    "            tweet['joy']        = 0.0\n",
    "            tweet['sadness']    = 0.0\n",
    "            tweet['tentative']  = 0.0\n",
    "            for tone in tone_obj['document_tone']['tones']:\n",
    "                if tone['tone_id'] == 'analytical':\n",
    "                    tweet['analytical'] = tone['score']\n",
    "                elif tone['tone_id'] == 'anger':\n",
    "                    tweet['anger'] = tone['score']\n",
    "                elif tone['tone_id'] == 'confident':\n",
    "                    tweet['confident'] = tone['score']\n",
    "                elif tone['tone_id'] == 'fear':\n",
    "                    tweet['fear'] = tone['score']\n",
    "                elif tone['tone_id'] == 'joy':\n",
    "                    tweet['joy'] = tone['score']\n",
    "                elif tone['tone_id'] == 'sadness':\n",
    "                    tweet['sadness'] = tone['score']\n",
    "                elif tone['tone_id'] == 'tentative':\n",
    "                    tweet['tentative'] = tone['score']\n",
    "\n",
    "\n",
    "                                        "
   ]
  },
  {
   "cell_type": "code",
   "execution_count": 45,
   "metadata": {},
   "outputs": [],
   "source": [
    "with open(\"coronavirus_tweets_with_tone.json\", \"w\", encoding=\"utf8\") as outfile:\n",
    "    json.dump(coronavirus_tweets, outfile)\n",
    "    \n",
    "with open(\"non_coronavirus_tweets_with_tone.json\", \"w\", encoding=\"utf8\") as outfile:\n",
    "    json.dump(non_coronavirus_tweets, outfile)"
   ]
  },
  {
   "cell_type": "code",
   "execution_count": null,
   "metadata": {},
   "outputs": [],
   "source": []
  }
 ],
 "metadata": {
  "kernelspec": {
   "display_name": "Python 3",
   "language": "python",
   "name": "python3"
  },
  "language_info": {
   "codemirror_mode": {
    "name": "ipython",
    "version": 3
   },
   "file_extension": ".py",
   "mimetype": "text/x-python",
   "name": "python",
   "nbconvert_exporter": "python",
   "pygments_lexer": "ipython3",
   "version": "3.7.6"
  }
 },
 "nbformat": 4,
 "nbformat_minor": 4
}
