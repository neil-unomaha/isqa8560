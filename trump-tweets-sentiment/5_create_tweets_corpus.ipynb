{
 "cells": [
  {
   "cell_type": "markdown",
   "metadata": {},
   "source": [
    "# Create Corpus of tweets with VADER and IBM Watson Tone Analyzer Results\n",
    "\n",
    "### Notebook Input\n",
    "* JSON files created from [1_trump-tweets-sentiment_pre-processing](1_trump-tweets-sentiment_pre-processing)\n",
    "\n",
    "\n",
    "### Notebook Output\n",
    "* JSON file of coronavirus-tweets corpus, along with metadata of VADER and IBM Watson Tone Analyzer\n",
    "* JSON file of non-coronavirus-tweets corpus, along with metadata of VADER and IBM Watson Tone Analyzer"
   ]
  },
  {
   "cell_type": "code",
   "execution_count": null,
   "metadata": {},
   "outputs": [],
   "source": [
    "import json\n",
    "import nltk\n",
    "from nltk.sentiment.vader import SentimentIntensityAnalyzer\n",
    "\n",
    "# Initialize VADER\n",
    "sid = SentimentIntensityAnalyzer()"
   ]
  },
  {
   "cell_type": "code",
   "execution_count": null,
   "metadata": {},
   "outputs": [],
   "source": [
    "coronavirus_tweets            = []\n",
    "non_coronavirus_tweets        = []\n",
    "coronavirus_tweets_corpus     = {'text': ''}\n",
    "non_coronavirus_tweets_corpus = {'text': ''}\n",
    "\n",
    "with open('corona_virus_tweets_cleaned.json', encoding=\"utf8\") as f:\n",
    "  coronavirus_tweets = json.load(f)\n",
    "\n",
    "with open('non_corona_virus_tweets_cleaned.json', encoding=\"utf8\") as f:\n",
    "  non_coronavirus_tweets = json.load(f)"
   ]
  },
  {
   "cell_type": "code",
   "execution_count": null,
   "metadata": {},
   "outputs": [],
   "source": [
    "# Create the text corpus for both sets of tweets\n",
    "for tweet in coronavirus_tweets:\n",
    "    coronavirus_tweets_corpus['text'] = coronavirus_tweets_corpus['text'] + \" \" + tweet['text']\n",
    "    \n",
    "for tweet in non_coronavirus_tweets:\n",
    "    non_coronavirus_tweets_corpus['text'] = non_coronavirus_tweets_corpus['text'] + \" \" + tweet['text']"
   ]
  },
  {
   "cell_type": "code",
   "execution_count": null,
   "metadata": {},
   "outputs": [],
   "source": [
    "coronavirus_tweets_corpus"
   ]
  },
  {
   "cell_type": "code",
   "execution_count": null,
   "metadata": {},
   "outputs": [],
   "source": [
    "non_coronavirus_tweets_corpus"
   ]
  },
  {
   "cell_type": "code",
   "execution_count": null,
   "metadata": {},
   "outputs": [],
   "source": [
    "# Append vader polarity score on coronavirus-related tweets\n",
    "coronavirus_tweets_corpus['vader_polarity'] = sid.polarity_scores(coronavirus_tweets_corpus['text'])['compound']\n",
    "coronavirus_tweets_corpus['vader_polarity']"
   ]
  },
  {
   "cell_type": "code",
   "execution_count": null,
   "metadata": {},
   "outputs": [],
   "source": [
    "# Append vader polarity score on non-coronavirus-related tweets\n",
    "non_coronavirus_tweets_corpus['vader_polarity'] = sid.polarity_scores(non_coronavirus_tweets_corpus['text'])['compound']\n",
    "non_coronavirus_tweets_corpus['vader_polarity']"
   ]
  },
  {
   "cell_type": "code",
   "execution_count": null,
   "metadata": {},
   "outputs": [],
   "source": [
    "# Append IBM Watson Tone Analyzer results to coronavirus-related tweets\n",
    "with open(\"temp_text.txt\", \"w\", encoding=\"utf8\") as outfile:\n",
    "    outfile.write(coronavirus_tweets_corpus['text'])\n",
    "\n",
    "# Set placeholder values\n",
    "coronavirus_tweets_corpus['analytical'] = 0.0\n",
    "coronavirus_tweets_corpus['anger']      = 0.0\n",
    "coronavirus_tweets_corpus['confident']  = 0.0\n",
    "coronavirus_tweets_corpus['fear']       = 0.0\n",
    "coronavirus_tweets_corpus['joy']        = 0.0\n",
    "coronavirus_tweets_corpus['sadness']    = 0.0\n",
    "coronavirus_tweets_corpus['tentative']  = 0.0        \n",
    "\n",
    "# Run the text through the IBM Watson Tone Analyzer\n",
    "response = !curl -X POST -u \"apikey:MY-KEY\" --header \"Content-Type: text/plain\" --data-binary @\\Users\\netho\\Desktop\\TRUMP_TWEETS\\trump-corona-sentiment\\temp_text.txt \"MY-URL\"\n",
    "tone_analyzer_response = json.loads(response[-1])\n",
    "\n",
    "# Set the tone values for each tone if present\n",
    "for tone in tone_analyzer_response['document_tone']['tones']:\n",
    "    if tone['tone_id'] == 'analytical':\n",
    "        coronavirus_tweets_corpus['analytical'] = tone['score']\n",
    "    elif tone['tone_id'] == 'anger':\n",
    "        coronavirus_tweets_corpus['anger']      = tone['score']\n",
    "    elif tone['tone_id'] == 'confident':\n",
    "        coronavirus_tweets_corpus['confident']  = tone['score']\n",
    "    elif tone['tone_id'] == 'fear':\n",
    "        coronavirus_tweets_corpus['fear']       = tone['score']\n",
    "    elif tone['tone_id'] == 'joy':\n",
    "        coronavirus_tweets_corpus['joy']        = tone['score']\n",
    "    elif tone['tone_id'] == 'sadness':\n",
    "        coronavirus_tweets_corpus['sadness']    = tone['score']\n",
    "    elif tone['tone_id'] == 'tentative':\n",
    "        coronavirus_tweets_corpus['tentative']  = tone['score']\n",
    "\n",
    "# Save to a JSON file\n",
    "with open(\"corpus_coronavirus_tweets_with_tone_and_sentiment.json\", \"w\", encoding=\"utf8\") as outfile:\n",
    "    json.dump(coronavirus_tweets_corpus, outfile)"
   ]
  },
  {
   "cell_type": "code",
   "execution_count": null,
   "metadata": {},
   "outputs": [],
   "source": [
    "coronavirus_tweets_corpus"
   ]
  },
  {
   "cell_type": "code",
   "execution_count": null,
   "metadata": {},
   "outputs": [],
   "source": [
    "# Append IBM Watson Tone Analyzer results to non-coronavirus-related tweets\n",
    "with open(\"temp_text.txt\", \"w\", encoding=\"utf8\") as outfile:\n",
    "    outfile.write(non_coronavirus_tweets_corpus['text'])\n",
    "\n",
    "# Set placeholder values\n",
    "non_coronavirus_tweets_corpus['analytical'] = 0.0\n",
    "non_coronavirus_tweets_corpus['anger']      = 0.0\n",
    "non_coronavirus_tweets_corpus['confident']  = 0.0\n",
    "non_coronavirus_tweets_corpus['fear']       = 0.0\n",
    "non_coronavirus_tweets_corpus['joy']        = 0.0\n",
    "non_coronavirus_tweets_corpus['sadness']    = 0.0\n",
    "non_coronavirus_tweets_corpus['tentative']  = 0.0        \n",
    "\n",
    "# Run the text through the IBM Watson Tone Analyzer\n",
    "response = !curl -X POST -u \"apikey:MY-KEY\" --header \"Content-Type: text/plain\" --data-binary @\\Users\\netho\\Desktop\\TRUMP_TWEETS\\trump-corona-sentiment\\temp_text.txt \"MY-URL\"\n",
    "tone_analyzer_response = json.loads(response[-1])\n",
    "\n",
    "# Set the tone values for each tone if present\n",
    "for tone in tone_analyzer_response['document_tone']['tones']:\n",
    "    if tone['tone_id'] == 'analytical':\n",
    "        non_coronavirus_tweets_corpus['analytical'] = tone['score']\n",
    "    elif tone['tone_id'] == 'anger':\n",
    "        non_coronavirus_tweets_corpus['anger']      = tone['score']\n",
    "    elif tone['tone_id'] == 'confident':\n",
    "        non_coronavirus_tweets_corpus['confident']  = tone['score']\n",
    "    elif tone['tone_id'] == 'fear':\n",
    "        non_coronavirus_tweets_corpus['fear']       = tone['score']\n",
    "    elif tone['tone_id'] == 'joy':\n",
    "        non_coronavirus_tweets_corpus['joy']        = tone['score']\n",
    "    elif tone['tone_id'] == 'sadness':\n",
    "        non_coronavirus_tweets_corpus['sadness']    = tone['score']\n",
    "    elif tone['tone_id'] == 'tentative':\n",
    "        non_coronavirus_tweets_corpus['tentative']  = tone['score']\n",
    "\n",
    "# Save to a JSON file\n",
    "with open(\"corpus_non_coronavirus_tweets_with_tone_and_sentiment.json\", \"w\", encoding=\"utf8\") as outfile:\n",
    "    json.dump(non_coronavirus_tweets_corpus, outfile)"
   ]
  },
  {
   "cell_type": "code",
   "execution_count": null,
   "metadata": {},
   "outputs": [],
   "source": [
    "non_coronavirus_tweets_corpus"
   ]
  },
  {
   "cell_type": "markdown",
   "metadata": {},
   "source": [
    "### Summary\n",
    "* We created a corpus of all the coronavirus-related tweets, as well as a corpus of all the non-coronavirus-related tweets. \n",
    "* We ran each corpus through VADER and IBM Watson Tone Analyzer. We save the results in two JSON files."
   ]
  },
  {
   "cell_type": "code",
   "execution_count": null,
   "metadata": {},
   "outputs": [],
   "source": []
  }
 ],
 "metadata": {
  "kernelspec": {
   "display_name": "Python 3",
   "language": "python",
   "name": "python3"
  },
  "language_info": {
   "codemirror_mode": {
    "name": "ipython",
    "version": 3
   },
   "file_extension": ".py",
   "mimetype": "text/x-python",
   "name": "python",
   "nbconvert_exporter": "python",
   "pygments_lexer": "ipython3",
   "version": "3.7.6"
  }
 },
 "nbformat": 4,
 "nbformat_minor": 4
}
