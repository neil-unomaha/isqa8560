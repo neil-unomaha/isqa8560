{
 "cells": [
  {
   "cell_type": "markdown",
   "metadata": {},
   "source": [
    "# Sentiment Analysis of Trump Tweets Regarding Coronavirus"
   ]
  },
  {
   "cell_type": "code",
   "execution_count": 114,
   "metadata": {},
   "outputs": [],
   "source": [
    "import json\n",
    "import pandas as pd"
   ]
  },
  {
   "cell_type": "markdown",
   "metadata": {},
   "source": [
    "## Data Cleaning / Pre-Processing"
   ]
  },
  {
   "cell_type": "markdown",
   "metadata": {},
   "source": [
    "### Filter out the  ReTweets\n",
    "All tweets ranging from 12/31/2019 - 5/27/2020\n",
    "Manually filtered out retweets\n"
   ]
  },
  {
   "cell_type": "code",
   "execution_count": 115,
   "metadata": {},
   "outputs": [
    {
     "name": "stdout",
     "output_type": "stream",
     "text": [
      "All Trump tweets ranging 12/31/2019 - 5/27/2020: 4412\n",
      "Trump tweets, filtered out retweets, ranging 12/31/2019 - 5/27/2020: 2114\n"
     ]
    }
   ],
   "source": [
    "tweets_with_retweets = None\n",
    "\n",
    "with open('Tweets_12-31-2019_05-27-2020_to_work.json', encoding=\"utf8\") as f:\n",
    "  tweets_with_retweets = json.load(f)\n",
    "\n",
    "tweets_without_retweets = []\n",
    "\n",
    "for tweet in tweets_with_retweets:\n",
    "    if(tweet['text'].find('RT') == 0):\n",
    "        continue\n",
    "        \n",
    "    tweets_without_retweets.append(tweet)\n",
    "\n",
    "with open(\"Tweets_12-31-2019_05-27-2020_without-retweets.json\", \"w\") as outfile:\n",
    "    json.dump(tweets_without_retweets, outfile)\n",
    "    \n",
    "print(f'All Trump tweets ranging 12/31/2019 - 5/27/2020: {len(tweets_with_retweets)}')\n",
    "print(f'Trump tweets, filtered out retweets, ranging 12/31/2019 - 5/27/2020: {len(tweets_without_retweets)}')"
   ]
  },
  {
   "cell_type": "markdown",
   "metadata": {},
   "source": [
    "### Filter Tweets by Coronavirus-related keywords"
   ]
  },
  {
   "cell_type": "code",
   "execution_count": 116,
   "metadata": {},
   "outputs": [
    {
     "name": "stdout",
     "output_type": "stream",
     "text": [
      "Total keyword-filtered tweets: 227\n"
     ]
    }
   ],
   "source": [
    "import json\n",
    "\n",
    "tweets_ary = None\n",
    "with open('Tweets_12-31-2019_05-27-2020_without-retweets.json', encoding=\"utf8\") as f:\n",
    "  tweets_ary = json.load(f)\n",
    "\n",
    "keyword_filtered_tweets_ary = []\n",
    "\n",
    "for tweet in tweets_ary:\n",
    "\n",
    "    lcase_tweet_txt = tweet['text'].lower()\n",
    "    if(lcase_tweet_txt.find('china') > -1):\n",
    "        keyword_filtered_tweets_ary.append(tweet)\n",
    "    elif(lcase_tweet_txt.find('covid') > -1):\n",
    "        keyword_filtered_tweets_ary.append(tweet)\n",
    "    elif(lcase_tweet_txt.find('pandemic') > -1):\n",
    "        keyword_filtered_tweets_ary.append(tweet)\n",
    "    elif(lcase_tweet_txt.find('virus') > -1):\n",
    "        keyword_filtered_tweets_ary.append(tweet)\n",
    "    elif(lcase_tweet_txt.find('corona') > -1):\n",
    "        keyword_filtered_tweets_ary.append(tweet)\n",
    "    elif(lcase_tweet_txt.find('hospital') > -1):\n",
    "        keyword_filtered_tweets_ary.append(tweet)\n",
    "    elif(lcase_tweet_txt.find('ventilator') > -1):\n",
    "        keyword_filtered_tweets_ary.append(tweet)\n",
    "    elif(lcase_tweet_txt.find('reopen') > -1):\n",
    "        keyword_filtered_tweets_ary.append(tweet)\n",
    "    elif(lcase_tweet_txt.find('vaccine') > -1):\n",
    "        keyword_filtered_tweets_ary.append(tweet)\n",
    "    elif(lcase_tweet_txt.find('testing') > -1):\n",
    "        keyword_filtered_tweets_ary.append(tweet)\n",
    "    elif(lcase_tweet_txt.find('tests') > -1):\n",
    "        keyword_filtered_tweets_ary.append(tweet)\n",
    "        \n",
    "with open(\"tweets_keyword_filtered.json\", \"w\") as outfile:\n",
    "    json.dump(keyword_filtered_tweets_ary, outfile)\n",
    "    \n",
    "print(f'Total keyword-filtered tweets: {len(keyword_filtered_tweets_ary)}')"
   ]
  },
  {
   "cell_type": "markdown",
   "metadata": {},
   "source": [
    "### Identify and remove tweets where coronavirus was neither directory nor indirectly a component of the tweet"
   ]
  },
  {
   "cell_type": "code",
   "execution_count": 117,
   "metadata": {},
   "outputs": [
    {
     "data": {
      "text/html": [
       "<div>\n",
       "<style scoped>\n",
       "    .dataframe tbody tr th:only-of-type {\n",
       "        vertical-align: middle;\n",
       "    }\n",
       "\n",
       "    .dataframe tbody tr th {\n",
       "        vertical-align: top;\n",
       "    }\n",
       "\n",
       "    .dataframe thead th {\n",
       "        text-align: right;\n",
       "    }\n",
       "</style>\n",
       "<table border=\"1\" class=\"dataframe\">\n",
       "  <thead>\n",
       "    <tr style=\"text-align: right;\">\n",
       "      <th></th>\n",
       "      <th>text</th>\n",
       "      <th>created_at</th>\n",
       "      <th>id_str</th>\n",
       "    </tr>\n",
       "  </thead>\n",
       "  <tbody>\n",
       "    <tr>\n",
       "      <th>0</th>\n",
       "      <td>....One person lost to this invisible virus is too much, it should have been stopped at its source, China, but I acted very quickly, and made the right decisions. Many of the current political complainers thought, at the time, that I was moving far to fast, like Crazy Nancy!</td>\n",
       "      <td>Tue May 26 15:18:23 +0000 2020</td>\n",
       "      <td>1265301261903106054</td>\n",
       "    </tr>\n",
       "    <tr>\n",
       "      <th>1</th>\n",
       "      <td>For all of the political hacks out there, if I hadn’t done my job well, &amp;amp; early, we would have lost 1 1/2 to 2 Million People, as opposed to the 100,000 plus that looks like will be the number. That’s 15 to 20 times more than we will lose. I shut down entry from China very early!</td>\n",
       "      <td>Tue May 26 15:18:20 +0000 2020</td>\n",
       "      <td>1265301249630654467</td>\n",
       "    </tr>\n",
       "    <tr>\n",
       "      <th>2</th>\n",
       "      <td>We made most Governors look very good, even great, by getting them the Ventilators, unlimited Testing, and supplies, all of which they should have had in their own stockpiles. So they look great, and I just keep rolling along, doing great things and getting Fake Lamestream News!</td>\n",
       "      <td>Tue May 26 15:01:26 +0000 2020</td>\n",
       "      <td>1265296994056183809</td>\n",
       "    </tr>\n",
       "    <tr>\n",
       "      <th>3</th>\n",
       "      <td>Great reviews on our handling of Covid 19, sometimes referred to as the China Virus. Ventilators, Testing, Medical Supply Distribution, we made a lot of Governors look very good - And got no credit for so doing. Most importantly, we helped a lot of great people!</td>\n",
       "      <td>Mon May 25 20:16:06 +0000 2020</td>\n",
       "      <td>1265013797334507521</td>\n",
       "    </tr>\n",
       "    <tr>\n",
       "      <th>4</th>\n",
       "      <td>Nobody in 50 years has been WEAKER on China than Sleepy Joe Biden. He was asleep at the wheel. He gave them EVERYTHING they wanted, including rip-off Trade Deals. I am getting it all back!</td>\n",
       "      <td>Mon May 25 20:05:34 +0000 2020</td>\n",
       "      <td>1265011145879977985</td>\n",
       "    </tr>\n",
       "    <tr>\n",
       "      <th>...</th>\n",
       "      <td>...</td>\n",
       "      <td>...</td>\n",
       "      <td>...</td>\n",
       "    </tr>\n",
       "    <tr>\n",
       "      <th>222</th>\n",
       "      <td>One of the greatest trade deals ever made! Also good for China and our long term relationship. 250 Billion Dollars will be coming back to our Country, and we are now in a great position for a Phase Two start. There has never been anything like this in U.S. history! USMCA NEXT!</td>\n",
       "      <td>Thu Jan 16 13:41:21 +0000 2020</td>\n",
       "      <td>1217804029599920128</td>\n",
       "    </tr>\n",
       "    <tr>\n",
       "      <th>223</th>\n",
       "      <td>National Security Adviser suggested today that sanctions &amp;amp; protests have Iran “choked off”, will force them to negotiate. Actually, I couldn’t care less if they negotiate. Will be totally up to them but, no nuclear weapons and “don’t kill your protesters.”</td>\n",
       "      <td>Sun Jan 12 23:46:18 +0000 2020</td>\n",
       "      <td>1216506722153639942</td>\n",
       "    </tr>\n",
       "    <tr>\n",
       "      <th>224</th>\n",
       "      <td>The government of Iran must allow human rights groups to monitor and report facts from the ground on the ongoing protests by the Iranian people. There can not be another massacre of peaceful protesters, nor an internet shutdown. The world is watching.</td>\n",
       "      <td>Sat Jan 11 22:11:03 +0000 2020</td>\n",
       "      <td>1216120362230067202</td>\n",
       "    </tr>\n",
       "    <tr>\n",
       "      <th>225</th>\n",
       "      <td>To the brave, long-suffering people of Iran: I've stood with you since the beginning of my Presidency, and my Administration will continue to stand with you. We are following your protests closely, and are inspired by your courage.</td>\n",
       "      <td>Sat Jan 11 21:46:18 +0000 2020</td>\n",
       "      <td>1216114135529902081</td>\n",
       "    </tr>\n",
       "    <tr>\n",
       "      <th>226</th>\n",
       "      <td>I will be signing our very large and comprehensive Phase One Trade Deal with China on January 15. The ceremony will take place at the White House. High level representatives of China will be present. At a later date I will be going to Beijing where talks will begin on Phase Two!</td>\n",
       "      <td>Tue Dec 31 14:16:40 +0000 2019</td>\n",
       "      <td>1212014713808273410</td>\n",
       "    </tr>\n",
       "  </tbody>\n",
       "</table>\n",
       "<p>227 rows × 3 columns</p>\n",
       "</div>"
      ],
      "text/plain": [
       "                                                                                                                                                                                                                                                                                             text  \\\n",
       "0             ....One person lost to this invisible virus is too much, it should have been stopped at its source, China, but I acted very quickly, and made the right decisions. Many of the current political complainers thought, at the time, that I was moving far to fast, like Crazy Nancy!   \n",
       "1    For all of the political hacks out there, if I hadn’t done my job well, &amp; early, we would have lost 1 1/2 to 2 Million People, as opposed to the 100,000 plus that looks like will be the number. That’s 15 to 20 times more than we will lose. I shut down entry from China very early!   \n",
       "2         We made most Governors look very good, even great, by getting them the Ventilators, unlimited Testing, and supplies, all of which they should have had in their own stockpiles. So they look great, and I just keep rolling along, doing great things and getting Fake Lamestream News!   \n",
       "3                          Great reviews on our handling of Covid 19, sometimes referred to as the China Virus. Ventilators, Testing, Medical Supply Distribution, we made a lot of Governors look very good - And got no credit for so doing. Most importantly, we helped a lot of great people!   \n",
       "4                                                                                                    Nobody in 50 years has been WEAKER on China than Sleepy Joe Biden. He was asleep at the wheel. He gave them EVERYTHING they wanted, including rip-off Trade Deals. I am getting it all back!   \n",
       "..                                                                                                                                                                                                                                                                                            ...   \n",
       "222         One of the greatest trade deals ever made! Also good for China and our long term relationship. 250 Billion Dollars will be coming back to our Country, and we are now in a great position for a Phase Two start. There has never been anything like this in U.S. history! USMCA NEXT!   \n",
       "223                          National Security Adviser suggested today that sanctions &amp; protests have Iran “choked off”, will force them to negotiate. Actually, I couldn’t care less if they negotiate. Will be totally up to them but, no nuclear weapons and “don’t kill your protesters.”   \n",
       "224                                   The government of Iran must allow human rights groups to monitor and report facts from the ground on the ongoing protests by the Iranian people. There can not be another massacre of peaceful protesters, nor an internet shutdown. The world is watching.   \n",
       "225                                                       To the brave, long-suffering people of Iran: I've stood with you since the beginning of my Presidency, and my Administration will continue to stand with you. We are following your protests closely, and are inspired by your courage.   \n",
       "226       I will be signing our very large and comprehensive Phase One Trade Deal with China on January 15. The ceremony will take place at the White House. High level representatives of China will be present. At a later date I will be going to Beijing where talks will begin on Phase Two!   \n",
       "\n",
       "                         created_at               id_str  \n",
       "0    Tue May 26 15:18:23 +0000 2020  1265301261903106054  \n",
       "1    Tue May 26 15:18:20 +0000 2020  1265301249630654467  \n",
       "2    Tue May 26 15:01:26 +0000 2020  1265296994056183809  \n",
       "3    Mon May 25 20:16:06 +0000 2020  1265013797334507521  \n",
       "4    Mon May 25 20:05:34 +0000 2020  1265011145879977985  \n",
       "..                              ...                  ...  \n",
       "222  Thu Jan 16 13:41:21 +0000 2020  1217804029599920128  \n",
       "223  Sun Jan 12 23:46:18 +0000 2020  1216506722153639942  \n",
       "224  Sat Jan 11 22:11:03 +0000 2020  1216120362230067202  \n",
       "225  Sat Jan 11 21:46:18 +0000 2020  1216114135529902081  \n",
       "226  Tue Dec 31 14:16:40 +0000 2019  1212014713808273410  \n",
       "\n",
       "[227 rows x 3 columns]"
      ]
     },
     "execution_count": 117,
     "metadata": {},
     "output_type": "execute_result"
    }
   ],
   "source": [
    "pd.set_option('max_colwidth', 300)\n",
    "pd.set_option('display.max_rows', 10)\n",
    "tweets_df = pd.DataFrame.from_dict(keyword_filtered_tweets_ary)\n",
    "tweets_df"
   ]
  },
  {
   "cell_type": "markdown",
   "metadata": {},
   "source": [
    "### Identified Tweets to be Removed\n",
    "**Duplicate Tweets likely due to typo fixes**\n",
    "* 1254474709674143749\n",
    "* 1253684917038452736\n",
    "* 1249505062554144768\n",
    "* 1249369344540377089\n",
    "* 1249100658692648962\n",
    "* 1243710532714192898\n",
    "* 1229776851297558529\n",
    "\n",
    "**Classified as unrelated to coronavirus, either directly or indirectly**\n",
    "* 1251589681428520960\n",
    "* 1249103831994118146\n",
    "* 1230875946334318593\n",
    "* 1229790100797739008\n",
    "* 1224374908710420480\n",
    "* 1220673252764332037\n",
    "* 1220044230065655808\n",
    "* 1218952496388956162\n",
    "* 1217827468230434818\n",
    "* 1217808535091916800\n",
    "* 1217804029599920128\n",
    "* 1216506722153639942\n",
    "* 1216120362230067202\n",
    "* 1216114135529902081\n",
    "* 1212014713808273410\n",
    "\n",
    "**Tweets are manually entered quotes**\n",
    "* 1244320570315018240\n",
    "* 1244320704826310665\n",
    "* 1242756708902076417\n",
    "* 1232565919043317761\n",
    "\n",
    "**Tweet is significantly a quote besides saying \"Thank you Tom\"**\n",
    "* 1235594306297253889\n"
   ]
  },
  {
   "cell_type": "code",
   "execution_count": 118,
   "metadata": {},
   "outputs": [
    {
     "name": "stdout",
     "output_type": "stream",
     "text": [
      "Before count: 227\n",
      "After count: 200\n"
     ]
    }
   ],
   "source": [
    "print(f'Before count: {len(keyword_filtered_tweets_ary)}')\n",
    "keyword_filtered_tweets_ary[:] = [tweet for tweet in keyword_filtered_tweets_ary if tweet.get('id_str') not in ['1254474709674143749', '1253684917038452736', '1249505062554144768', '1249369344540377089', '1249100658692648962', '1243710532714192898', '1229776851297558529', '1251589681428520960', '1249103831994118146', '1230875946334318593', '1229790100797739008', '1224374908710420480', '1220673252764332037', '1220044230065655808', '1218952496388956162', '1217827468230434818', '1217808535091916800', '1217804029599920128', '1216506722153639942', '1216120362230067202', '1216114135529902081', '1212014713808273410', '1244320570315018240', '1244320704826310665', '1242756708902076417', '1232565919043317761', '1235594306297253889']]\n",
    "print(f'After count: {len(keyword_filtered_tweets_ary)}')"
   ]
  },
  {
   "cell_type": "code",
   "execution_count": 119,
   "metadata": {},
   "outputs": [],
   "source": [
    "with open(\"tweets_cleaned.json\", \"w\") as outfile:\n",
    "    json.dump(keyword_filtered_tweets_ary, outfile)"
   ]
  },
  {
   "cell_type": "markdown",
   "metadata": {},
   "source": [
    "### Final List of Tweets\n",
    "* Dating 12/31/2019 - 5/27/2020\n",
    "* Tweets include keywords\n",
    "* Removed additional tweets after manual inspection"
   ]
  }
 ],
 "metadata": {
  "kernelspec": {
   "display_name": "Python 3",
   "language": "python",
   "name": "python3"
  },
  "language_info": {
   "codemirror_mode": {
    "name": "ipython",
    "version": 3
   },
   "file_extension": ".py",
   "mimetype": "text/x-python",
   "name": "python",
   "nbconvert_exporter": "python",
   "pygments_lexer": "ipython3",
   "version": "3.7.6"
  }
 },
 "nbformat": 4,
 "nbformat_minor": 4
}
