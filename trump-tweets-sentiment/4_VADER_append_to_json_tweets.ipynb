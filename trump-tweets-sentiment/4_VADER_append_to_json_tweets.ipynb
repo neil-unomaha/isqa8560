{
 "cells": [
  {
   "cell_type": "markdown",
   "metadata": {},
   "source": [
    "# Append VADER ratings to JSON of Tweets\n",
    "\n",
    "### Notebook Input: \n",
    "* Two JSON files of President Trump's tweets. \n",
    "  * First JSON file is 200 coronavirus-related tweets which includes tweet data as well as IBM Watson Tone Analyzer metadata. \n",
    "  * Second JSON file is 200 non-coronavirus-related tweets which includes tweet data as well as IBM Watson Tone Analyzer metadata\n",
    "\n",
    "### Notebook Output: \n",
    "* Two JSON files with data from the Input files + VADER polarity scores"
   ]
  },
  {
   "cell_type": "code",
   "execution_count": 19,
   "metadata": {},
   "outputs": [],
   "source": [
    "import json\n",
    "import nltk\n",
    "\n",
    "# ran this to install vader\n",
    "# nltk.download('vader_lexicon')\n",
    "\n",
    "from nltk.sentiment.vader import SentimentIntensityAnalyzer\n",
    "\n",
    "# Initialize VADER\n",
    "sid = SentimentIntensityAnalyzer()"
   ]
  },
  {
   "cell_type": "code",
   "execution_count": 15,
   "metadata": {},
   "outputs": [
    {
     "data": {
      "text/plain": [
       "{'text': 'China has been working very hard to contain the Coronavirus. The United States greatly appreciates their efforts and transparency. It will all work out well. In particular, on behalf of the American People, I want to thank President Xi!',\n",
       " 'created_at': 'Fri Jan 24 21:18:15 +0000 2020',\n",
       " 'id_str': '1220818115354923009',\n",
       " 'analytical': 0.971713,\n",
       " 'anger': 0.0,\n",
       " 'confident': 0.973794,\n",
       " 'fear': 0.0,\n",
       " 'joy': 0.680207,\n",
       " 'sadness': 0.0,\n",
       " 'tentative': 0.0}"
      ]
     },
     "execution_count": 15,
     "metadata": {},
     "output_type": "execute_result"
    }
   ],
   "source": [
    "# Load in the JSON of tweets that already have the IBM Watson Tone Analyzer Results appended to them\n",
    "coronavirus_tweets     = []\n",
    "non_coronavirus_tweets = []\n",
    "\n",
    "with open('coronavirus_tweets_with_tone.json', encoding=\"utf8\") as f:\n",
    "  coronavirus_tweets = json.load(f)\n",
    "\n",
    "with open('non_coronavirus_tweets_with_tone.json', encoding=\"utf8\") as f:\n",
    "  non_coronavirus_tweets = json.load(f)\n",
    "\n",
    "coronavirus_tweets[0]"
   ]
  },
  {
   "cell_type": "code",
   "execution_count": 16,
   "metadata": {},
   "outputs": [],
   "source": [
    "# Append the VADER Polarity rating for each tweet\n",
    "for coronavirus_tweet in coronavirus_tweets:\n",
    "    coronavirus_tweet['vader_polarity'] = sid.polarity_scores(coronavirus_tweet['text'])['compound']\n",
    "\n",
    "for non_coronavirus_tweet in non_coronavirus_tweets:\n",
    "    non_coronavirus_tweet['vader_polarity'] = sid.polarity_scores(non_coronavirus_tweet['text'])['compound']"
   ]
  },
  {
   "cell_type": "code",
   "execution_count": 17,
   "metadata": {},
   "outputs": [],
   "source": [
    "# Save the Resulting Tweets\n",
    "with open(\"coronavirus_tweets_with_tone_and_sentiment.json\", \"w\", encoding=\"utf8\") as outfile:\n",
    "    json.dump(coronavirus_tweets, outfile)\n",
    "    \n",
    "with open(\"non_coronavirus_tweets_with_tone_and_sentiment.json\", \"w\", encoding=\"utf8\") as outfile:\n",
    "    json.dump(non_coronavirus_tweets, outfile)"
   ]
  },
  {
   "cell_type": "markdown",
   "metadata": {},
   "source": [
    "## Summary\n",
    "After running this notebook, each JSON object has the following attributes:\n",
    "\n",
    "| Attribute Name     | Description   |\n",
    "| -------------      |---------------|\n",
    "| **id_str**         | the tweet's id on twitter |\n",
    "| **created_at**     | the tweet's timestamp on twitter                                                            |\n",
    "| **text**           | the tweet text                                                                              |\n",
    "| **anger**          | IBM Watson Ton Analyzer score for anger, (placeholder value 0.0 if score was below .5)      |\n",
    "| **analytical**     | IBM Watson Ton Analyzer score for analytical, (placeholder value 0.0 if score was below .5) |\n",
    "| **confident**      | IBM Watson Ton Analyzer score for confident, (placeholder value 0.0 if score was below .5)  |\n",
    "| **fear**           | IBM Watson Ton Analyzer score for fear, (placeholder value 0.0 if score was below .5)       |\n",
    "| **joy**            | IBM Watson Ton Analyzer score for joy, (placeholder value 0.0 if score was below .5)        |\n",
    "| **sadness**        | IBM Watson Ton Analyzer score for sadness, (placeholder value 0.0 if score was below .5)    |\n",
    "| **tentative**      | IBM Watson Ton Analyzer score for tentative, (placeholder value 0.0 if score was below .5)  |\n",
    "| **vader_polarity** | Ranges from -1 - 1, where -1 is negative sentiment and 1 is positive sentiment              |"
   ]
  }
 ],
 "metadata": {
  "kernelspec": {
   "display_name": "Python 3",
   "language": "python",
   "name": "python3"
  },
  "language_info": {
   "codemirror_mode": {
    "name": "ipython",
    "version": 3
   },
   "file_extension": ".py",
   "mimetype": "text/x-python",
   "name": "python",
   "nbconvert_exporter": "python",
   "pygments_lexer": "ipython3",
   "version": "3.7.6"
  }
 },
 "nbformat": 4,
 "nbformat_minor": 4
}
