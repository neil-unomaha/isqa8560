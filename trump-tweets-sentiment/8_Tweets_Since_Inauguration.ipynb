{
 "cells": [
  {
   "cell_type": "markdown",
   "metadata": {},
   "source": [
    "# Percentage of Retweets and Tweets That are Just Links"
   ]
  },
  {
   "cell_type": "code",
   "execution_count": 4,
   "metadata": {},
   "outputs": [
    {
     "name": "stdout",
     "output_type": "stream",
     "text": [
      "Total tweets since Inauguration (1/20/2017 - 5/27/2020): 18468\n"
     ]
    }
   ],
   "source": [
    "import pandas as pd\n",
    "import json\n",
    "import re\n",
    "import matplotlib.pyplot as plt\n",
    "\n",
    "trump_tweets = pd.read_json('since_inauguration_includes_retweets_01-20-17_05-27-20.json')\n",
    "\n",
    "print(f\"Total tweets since Inauguration (1/20/2017 - 5/27/2020): {len(trump_tweets)}\")"
   ]
  },
  {
   "cell_type": "code",
   "execution_count": 27,
   "metadata": {},
   "outputs": [],
   "source": [
    "tweets = trump_tweets[\"text\"].tolist()"
   ]
  },
  {
   "cell_type": "code",
   "execution_count": 35,
   "metadata": {},
   "outputs": [
    {
     "name": "stdout",
     "output_type": "stream",
     "text": [
      "Retweets since Inauguration (1/20/2017 - 5/27/2020): 6311\n",
      "Tweets that are not Retweets but are just links (1/20/2017 - 5/27/2020): 507\n",
      "Total retweets and links: 6818\n"
     ]
    }
   ],
   "source": [
    "retweet_count = 0\n",
    "for tweet in tweets:\n",
    "    if(tweet.find('RT') == 0):\n",
    "        retweet_count += 1\n",
    "        \n",
    "tweet_links_count = 0\n",
    "for tweet in tweets:\n",
    "    if(tweet.find('http') == 0):\n",
    "        tweet_links_count += 1  \n",
    "\n",
    "retweets_and_links = retweet_count + tweet_links_count        \n",
    "        \n",
    "print(f\"Retweets since Inauguration (1/20/2017 - 5/27/2020): {retweet_count}\")\n",
    "print(f\"Tweets that are not Retweets but are just links (1/20/2017 - 5/27/2020): {tweet_links}\")\n",
    "print(f\"Total retweets and links: {retweets_and_links}\")\n"
   ]
  },
  {
   "cell_type": "code",
   "execution_count": 36,
   "metadata": {},
   "outputs": [
    {
     "name": "stdout",
     "output_type": "stream",
     "text": [
      "Percentage of retweets: 36%\n"
     ]
    }
   ],
   "source": [
    "percent_retweeted = int((retweets_and_links / len(trump_tweets)) * 100)\n",
    "print(f\"Percentage of retweets: {percent_retweeted}%\")"
   ]
  },
  {
   "cell_type": "code",
   "execution_count": 14,
   "metadata": {},
   "outputs": [
    {
     "data": {
      "image/png": "[encoded data removed]",
      "text/plain": [
       "<Figure size 432x288 with 1 Axes>"
      ]
     },
     "metadata": {},
     "output_type": "display_data"
    }
   ],
   "source": [
    "# Pie chart, where the slices will be ordered and plotted counter-clockwise:\n",
    "labels = 'Retweets or Only Links', 'Original Tweets'\n",
    "sizes = [36, 64]\n",
    "\n",
    "fig1, ax1 = plt.subplots()\n",
    "ax1.pie(sizes, labels=labels, autopct='%1.1f%%',\n",
    "        shadow=True, startangle=90)\n",
    "ax1.axis('equal')\n",
    "\n",
    "plt.show()"
   ]
  },
  {
   "cell_type": "markdown",
   "metadata": {},
   "source": [
    "## Summary\n",
    "\n",
    "Since Trump's Inauguration, we see that 36% of his tweets are retweets and tweets with only links"
   ]
  },
  {
   "cell_type": "code",
   "execution_count": null,
   "metadata": {},
   "outputs": [],
   "source": []
  }
 ],
 "metadata": {
  "kernelspec": {
   "display_name": "Python 3",
   "language": "python",
   "name": "python3"
  },
  "language_info": {
   "codemirror_mode": {
    "name": "ipython",
    "version": 3
   },
   "file_extension": ".py",
   "mimetype": "text/x-python",
   "name": "python",
   "nbconvert_exporter": "python",
   "pygments_lexer": "ipython3",
   "version": "3.7.6"
  }
 },
 "nbformat": 4,
 "nbformat_minor": 4
}
